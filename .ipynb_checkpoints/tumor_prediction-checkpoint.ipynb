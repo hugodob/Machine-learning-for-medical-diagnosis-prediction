{
 "cells": [
  {
   "cell_type": "code",
   "execution_count": 6,
   "metadata": {
    "collapsed": false
   },
   "outputs": [],
   "source": [
    "import csv\n",
    "import sys\n",
    "import pandas as pd\n",
    "from collections import Counter\n",
    "import numpy as np\n",
    "import re\n",
    "from gensim import utils\n",
    "from gensim.models.doc2vec import LabeledSentence\n",
    "\n",
    "def import_from_csv(path_to_folder):\n",
    "    train_data=pd.read_csv(path_to_folder+'/training_variants')\n",
    "    train_text=pd.read_csv(path_to_folder+'/training_text', sep=\"\\|\\|\", engine='python', header=None, skiprows=1, names=[\"ID\",\"Text\"])\n",
    "    test_data=pd.read_csv(path_to_folder+'/test_variants')\n",
    "    test_text=pd.read_csv(path_to_folder+'/test_text', sep=\"\\|\\|\", engine='python', header=None, skiprows=1, names=[\"ID\",\"Text\"])\n",
    "    train = pd.merge(train_data, train_text, how='left', on='ID').fillna('')\n",
    "    test = pd.merge(test_data, test_text, how='left', on='ID').fillna('')\n",
    "    return train, test\n",
    "train, test=import_from_csv(\"data_kaggle\")"
   ]
  },
  {
   "cell_type": "code",
   "execution_count": null,
   "metadata": {
    "collapsed": true
   },
   "outputs": [],
   "source": []
  }
 ],
 "metadata": {
  "kernelspec": {
   "display_name": "Python [default]",
   "language": "python",
   "name": "python3"
  },
  "language_info": {
   "codemirror_mode": {
    "name": "ipython",
    "version": 3
   },
   "file_extension": ".py",
   "mimetype": "text/x-python",
   "name": "python",
   "nbconvert_exporter": "python",
   "pygments_lexer": "ipython3",
   "version": "3.5.2"
  }
 },
 "nbformat": 4,
 "nbformat_minor": 1
}
